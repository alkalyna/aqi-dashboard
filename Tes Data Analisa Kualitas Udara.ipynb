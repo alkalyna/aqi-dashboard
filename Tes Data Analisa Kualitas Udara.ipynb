{
 "cells": [
  {
   "cell_type": "code",
   "execution_count": 225,
   "metadata": {},
   "outputs": [],
   "source": [
    "# Data Processing Kualitas Udara\n",
    "# Menggunakan Jupyter Notebook on vscode"
   ]
  },
  {
   "cell_type": "code",
   "execution_count": 226,
   "metadata": {},
   "outputs": [
    {
     "name": "stdout",
     "output_type": "stream",
     "text": [
      "<class 'pandas.core.frame.DataFrame'>\n",
      "RangeIndex: 16695 entries, 0 to 16694\n",
      "Data columns (total 14 columns):\n",
      " #   Column              Non-Null Count  Dtype  \n",
      "---  ------              --------------  -----  \n",
      " 0   Country             16393 non-null  object \n",
      " 1   City                16695 non-null  object \n",
      " 2   AQI Value           16695 non-null  int64  \n",
      " 3   AQI Category        16695 non-null  object \n",
      " 4   CO AQI Value        16695 non-null  int64  \n",
      " 5   CO AQI Category     16695 non-null  object \n",
      " 6   Ozone AQI Value     16695 non-null  int64  \n",
      " 7   Ozone AQI Category  16695 non-null  object \n",
      " 8   NO2 AQI Value       16695 non-null  int64  \n",
      " 9   NO2 AQI Category    16695 non-null  object \n",
      " 10  PM2.5 AQI Value     16695 non-null  int64  \n",
      " 11  PM2.5 AQI Category  16695 non-null  object \n",
      " 12  lat                 16695 non-null  float64\n",
      " 13  lng                 16695 non-null  float64\n",
      "dtypes: float64(2), int64(5), object(7)\n",
      "memory usage: 1.8+ MB\n"
     ]
    }
   ],
   "source": [
    "# Memasukan dataset ke dalam dataframe Pandas\n",
    "\n",
    "import pandas as pd\n",
    "\n",
    "df = pd.read_csv('AQI and Lat Long of Countries.csv')\n",
    "df.info()"
   ]
  },
  {
   "cell_type": "code",
   "execution_count": 227,
   "metadata": {},
   "outputs": [
    {
     "data": {
      "text/plain": [
       "Index(['Country', 'City', 'AQI Value', 'AQI Category', 'CO AQI Value',\n",
       "       'CO AQI Category', 'Ozone AQI Value', 'Ozone AQI Category',\n",
       "       'NO2 AQI Value', 'NO2 AQI Category', 'PM2.5 AQI Value',\n",
       "       'PM2.5 AQI Category', 'lat', 'lng'],\n",
       "      dtype='object')"
      ]
     },
     "execution_count": 227,
     "metadata": {},
     "output_type": "execute_result"
    }
   ],
   "source": [
    "# Menampilkan Kolom\n",
    "\n",
    "df.columns"
   ]
  },
  {
   "cell_type": "code",
   "execution_count": 228,
   "metadata": {},
   "outputs": [],
   "source": [
    "# Buat Data baru\n",
    "data1 = df[['Country', 'City','AQI Value','AQI Category','lat', 'lng']]"
   ]
  },
  {
   "cell_type": "code",
   "execution_count": 229,
   "metadata": {},
   "outputs": [
    {
     "data": {
      "text/html": [
       "<div>\n",
       "<style scoped>\n",
       "    .dataframe tbody tr th:only-of-type {\n",
       "        vertical-align: middle;\n",
       "    }\n",
       "\n",
       "    .dataframe tbody tr th {\n",
       "        vertical-align: top;\n",
       "    }\n",
       "\n",
       "    .dataframe thead th {\n",
       "        text-align: right;\n",
       "    }\n",
       "</style>\n",
       "<table border=\"1\" class=\"dataframe\">\n",
       "  <thead>\n",
       "    <tr style=\"text-align: right;\">\n",
       "      <th></th>\n",
       "      <th>Country</th>\n",
       "      <th>City</th>\n",
       "      <th>AQI Value</th>\n",
       "      <th>AQI Category</th>\n",
       "      <th>lat</th>\n",
       "      <th>lng</th>\n",
       "    </tr>\n",
       "  </thead>\n",
       "  <tbody>\n",
       "    <tr>\n",
       "      <th>0</th>\n",
       "      <td>Russian Federation</td>\n",
       "      <td>Praskoveya</td>\n",
       "      <td>51</td>\n",
       "      <td>Moderate</td>\n",
       "      <td>44.7444</td>\n",
       "      <td>44.2031</td>\n",
       "    </tr>\n",
       "    <tr>\n",
       "      <th>1</th>\n",
       "      <td>Brazil</td>\n",
       "      <td>Presidente Dutra</td>\n",
       "      <td>41</td>\n",
       "      <td>Good</td>\n",
       "      <td>-5.2900</td>\n",
       "      <td>-44.4900</td>\n",
       "    </tr>\n",
       "    <tr>\n",
       "      <th>2</th>\n",
       "      <td>Brazil</td>\n",
       "      <td>Presidente Dutra</td>\n",
       "      <td>41</td>\n",
       "      <td>Good</td>\n",
       "      <td>-11.2958</td>\n",
       "      <td>-41.9869</td>\n",
       "    </tr>\n",
       "    <tr>\n",
       "      <th>3</th>\n",
       "      <td>Italy</td>\n",
       "      <td>Priolo Gargallo</td>\n",
       "      <td>66</td>\n",
       "      <td>Moderate</td>\n",
       "      <td>37.1667</td>\n",
       "      <td>15.1833</td>\n",
       "    </tr>\n",
       "    <tr>\n",
       "      <th>4</th>\n",
       "      <td>Poland</td>\n",
       "      <td>Przasnysz</td>\n",
       "      <td>34</td>\n",
       "      <td>Good</td>\n",
       "      <td>53.0167</td>\n",
       "      <td>20.8833</td>\n",
       "    </tr>\n",
       "    <tr>\n",
       "      <th>5</th>\n",
       "      <td>United States of America</td>\n",
       "      <td>Punta Gorda</td>\n",
       "      <td>54</td>\n",
       "      <td>Moderate</td>\n",
       "      <td>16.1005</td>\n",
       "      <td>-88.8074</td>\n",
       "    </tr>\n",
       "    <tr>\n",
       "      <th>6</th>\n",
       "      <td>United States of America</td>\n",
       "      <td>Punta Gorda</td>\n",
       "      <td>54</td>\n",
       "      <td>Moderate</td>\n",
       "      <td>26.8941</td>\n",
       "      <td>-82.0513</td>\n",
       "    </tr>\n",
       "    <tr>\n",
       "      <th>7</th>\n",
       "      <td>Belgium</td>\n",
       "      <td>Puurs</td>\n",
       "      <td>64</td>\n",
       "      <td>Moderate</td>\n",
       "      <td>51.0761</td>\n",
       "      <td>4.2803</td>\n",
       "    </tr>\n",
       "    <tr>\n",
       "      <th>8</th>\n",
       "      <td>Russian Federation</td>\n",
       "      <td>Pyatigorsk</td>\n",
       "      <td>54</td>\n",
       "      <td>Moderate</td>\n",
       "      <td>44.0500</td>\n",
       "      <td>43.0667</td>\n",
       "    </tr>\n",
       "    <tr>\n",
       "      <th>9</th>\n",
       "      <td>China</td>\n",
       "      <td>Qinzhou</td>\n",
       "      <td>68</td>\n",
       "      <td>Moderate</td>\n",
       "      <td>21.9500</td>\n",
       "      <td>108.6167</td>\n",
       "    </tr>\n",
       "  </tbody>\n",
       "</table>\n",
       "</div>"
      ],
      "text/plain": [
       "                    Country              City  AQI Value AQI Category  \\\n",
       "0        Russian Federation        Praskoveya         51     Moderate   \n",
       "1                    Brazil  Presidente Dutra         41         Good   \n",
       "2                    Brazil  Presidente Dutra         41         Good   \n",
       "3                     Italy   Priolo Gargallo         66     Moderate   \n",
       "4                    Poland         Przasnysz         34         Good   \n",
       "5  United States of America       Punta Gorda         54     Moderate   \n",
       "6  United States of America       Punta Gorda         54     Moderate   \n",
       "7                   Belgium             Puurs         64     Moderate   \n",
       "8        Russian Federation        Pyatigorsk         54     Moderate   \n",
       "9                     China           Qinzhou         68     Moderate   \n",
       "\n",
       "       lat       lng  \n",
       "0  44.7444   44.2031  \n",
       "1  -5.2900  -44.4900  \n",
       "2 -11.2958  -41.9869  \n",
       "3  37.1667   15.1833  \n",
       "4  53.0167   20.8833  \n",
       "5  16.1005  -88.8074  \n",
       "6  26.8941  -82.0513  \n",
       "7  51.0761    4.2803  \n",
       "8  44.0500   43.0667  \n",
       "9  21.9500  108.6167  "
      ]
     },
     "execution_count": 229,
     "metadata": {},
     "output_type": "execute_result"
    }
   ],
   "source": [
    "data1.head(10)"
   ]
  },
  {
   "cell_type": "code",
   "execution_count": 230,
   "metadata": {},
   "outputs": [
    {
     "data": {
      "text/plain": [
       "Country         302\n",
       "City              0\n",
       "AQI Value         0\n",
       "AQI Category      0\n",
       "lat               0\n",
       "lng               0\n",
       "dtype: int64"
      ]
     },
     "execution_count": 230,
     "metadata": {},
     "output_type": "execute_result"
    }
   ],
   "source": [
    "# Melakukan pengecekan data null dan menghapusnya\n",
    "\n",
    "data1.isnull().sum()"
   ]
  },
  {
   "cell_type": "code",
   "execution_count": 231,
   "metadata": {},
   "outputs": [
    {
     "name": "stdout",
     "output_type": "stream",
     "text": [
      "<class 'pandas.core.frame.DataFrame'>\n",
      "RangeIndex: 16393 entries, 0 to 16392\n",
      "Data columns (total 6 columns):\n",
      " #   Column        Non-Null Count  Dtype  \n",
      "---  ------        --------------  -----  \n",
      " 0   Country       16393 non-null  object \n",
      " 1   City          16393 non-null  object \n",
      " 2   AQI Value     16393 non-null  int64  \n",
      " 3   AQI Category  16393 non-null  object \n",
      " 4   lat           16393 non-null  float64\n",
      " 5   lng           16393 non-null  float64\n",
      "dtypes: float64(2), int64(1), object(3)\n",
      "memory usage: 768.6+ KB\n"
     ]
    }
   ],
   "source": [
    "drop_na = data1.dropna().reset_index(drop=True)\n",
    "drop_na.info()"
   ]
  },
  {
   "cell_type": "code",
   "execution_count": 232,
   "metadata": {},
   "outputs": [
    {
     "name": "stdout",
     "output_type": "stream",
     "text": [
      "Terdapat duplicate pada kolom Country dan City 2437\n"
     ]
    }
   ],
   "source": [
    "# Menghitung Duplicate pada Kolom Country & City\n",
    "dup = len(drop_na['City'])-len(drop_na['City'].drop_duplicates())\n",
    "print('Terdapat duplicate pada kolom Country dan City', dup)"
   ]
  },
  {
   "cell_type": "code",
   "execution_count": 233,
   "metadata": {},
   "outputs": [
    {
     "data": {
      "text/html": [
       "<div>\n",
       "<style scoped>\n",
       "    .dataframe tbody tr th:only-of-type {\n",
       "        vertical-align: middle;\n",
       "    }\n",
       "\n",
       "    .dataframe tbody tr th {\n",
       "        vertical-align: top;\n",
       "    }\n",
       "\n",
       "    .dataframe thead th {\n",
       "        text-align: right;\n",
       "    }\n",
       "</style>\n",
       "<table border=\"1\" class=\"dataframe\">\n",
       "  <thead>\n",
       "    <tr style=\"text-align: right;\">\n",
       "      <th></th>\n",
       "      <th>Country</th>\n",
       "      <th>City</th>\n",
       "      <th>AQI Value</th>\n",
       "      <th>AQI Category</th>\n",
       "      <th>lat</th>\n",
       "      <th>lng</th>\n",
       "    </tr>\n",
       "  </thead>\n",
       "  <tbody>\n",
       "    <tr>\n",
       "      <th>0</th>\n",
       "      <td>Russian Federation</td>\n",
       "      <td>Praskoveya</td>\n",
       "      <td>51</td>\n",
       "      <td>Moderate</td>\n",
       "      <td>44.7444</td>\n",
       "      <td>44.2031</td>\n",
       "    </tr>\n",
       "    <tr>\n",
       "      <th>1</th>\n",
       "      <td>Brazil</td>\n",
       "      <td>Presidente Dutra</td>\n",
       "      <td>41</td>\n",
       "      <td>Good</td>\n",
       "      <td>-5.2900</td>\n",
       "      <td>-44.4900</td>\n",
       "    </tr>\n",
       "    <tr>\n",
       "      <th>3</th>\n",
       "      <td>Italy</td>\n",
       "      <td>Priolo Gargallo</td>\n",
       "      <td>66</td>\n",
       "      <td>Moderate</td>\n",
       "      <td>37.1667</td>\n",
       "      <td>15.1833</td>\n",
       "    </tr>\n",
       "    <tr>\n",
       "      <th>4</th>\n",
       "      <td>Poland</td>\n",
       "      <td>Przasnysz</td>\n",
       "      <td>34</td>\n",
       "      <td>Good</td>\n",
       "      <td>53.0167</td>\n",
       "      <td>20.8833</td>\n",
       "    </tr>\n",
       "    <tr>\n",
       "      <th>5</th>\n",
       "      <td>United States of America</td>\n",
       "      <td>Punta Gorda</td>\n",
       "      <td>54</td>\n",
       "      <td>Moderate</td>\n",
       "      <td>16.1005</td>\n",
       "      <td>-88.8074</td>\n",
       "    </tr>\n",
       "    <tr>\n",
       "      <th>7</th>\n",
       "      <td>Belgium</td>\n",
       "      <td>Puurs</td>\n",
       "      <td>64</td>\n",
       "      <td>Moderate</td>\n",
       "      <td>51.0761</td>\n",
       "      <td>4.2803</td>\n",
       "    </tr>\n",
       "    <tr>\n",
       "      <th>8</th>\n",
       "      <td>Russian Federation</td>\n",
       "      <td>Pyatigorsk</td>\n",
       "      <td>54</td>\n",
       "      <td>Moderate</td>\n",
       "      <td>44.0500</td>\n",
       "      <td>43.0667</td>\n",
       "    </tr>\n",
       "    <tr>\n",
       "      <th>9</th>\n",
       "      <td>China</td>\n",
       "      <td>Qinzhou</td>\n",
       "      <td>68</td>\n",
       "      <td>Moderate</td>\n",
       "      <td>21.9500</td>\n",
       "      <td>108.6167</td>\n",
       "    </tr>\n",
       "    <tr>\n",
       "      <th>10</th>\n",
       "      <td>Netherlands</td>\n",
       "      <td>Raalte</td>\n",
       "      <td>41</td>\n",
       "      <td>Good</td>\n",
       "      <td>52.3833</td>\n",
       "      <td>6.2667</td>\n",
       "    </tr>\n",
       "    <tr>\n",
       "      <th>11</th>\n",
       "      <td>France</td>\n",
       "      <td>Raismes</td>\n",
       "      <td>59</td>\n",
       "      <td>Moderate</td>\n",
       "      <td>50.3892</td>\n",
       "      <td>3.4858</td>\n",
       "    </tr>\n",
       "  </tbody>\n",
       "</table>\n",
       "</div>"
      ],
      "text/plain": [
       "                     Country              City  AQI Value AQI Category  \\\n",
       "0         Russian Federation        Praskoveya         51     Moderate   \n",
       "1                     Brazil  Presidente Dutra         41         Good   \n",
       "3                      Italy   Priolo Gargallo         66     Moderate   \n",
       "4                     Poland         Przasnysz         34         Good   \n",
       "5   United States of America       Punta Gorda         54     Moderate   \n",
       "7                    Belgium             Puurs         64     Moderate   \n",
       "8         Russian Federation        Pyatigorsk         54     Moderate   \n",
       "9                      China           Qinzhou         68     Moderate   \n",
       "10               Netherlands            Raalte         41         Good   \n",
       "11                    France           Raismes         59     Moderate   \n",
       "\n",
       "        lat       lng  \n",
       "0   44.7444   44.2031  \n",
       "1   -5.2900  -44.4900  \n",
       "3   37.1667   15.1833  \n",
       "4   53.0167   20.8833  \n",
       "5   16.1005  -88.8074  \n",
       "7   51.0761    4.2803  \n",
       "8   44.0500   43.0667  \n",
       "9   21.9500  108.6167  \n",
       "10  52.3833    6.2667  \n",
       "11  50.3892    3.4858  "
      ]
     },
     "execution_count": 233,
     "metadata": {},
     "output_type": "execute_result"
    }
   ],
   "source": [
    "drop_dup = drop_na.drop_duplicates(subset=[\"Country\", \"City\"], keep='first')\n",
    "drop_dup.head(10)"
   ]
  },
  {
   "cell_type": "code",
   "execution_count": 234,
   "metadata": {},
   "outputs": [],
   "source": [
    "# Mengubah dataframe menjadi file pickle\n",
    "\n",
    "import pickle\n",
    "\n",
    "drop_dup.to_pickle('df_use.pickle')"
   ]
  },
  {
   "cell_type": "code",
   "execution_count": 248,
   "metadata": {},
   "outputs": [
    {
     "data": {
      "text/plain": [
       "AQI Category\n",
       "Good                              6497\n",
       "Moderate                          5788\n",
       "Unhealthy                          767\n",
       "Unhealthy for Sensitive Groups     735\n",
       "Very Unhealthy                     120\n",
       "Hazardous                           49\n",
       "Name: count, dtype: int64"
      ]
     },
     "execution_count": 248,
     "metadata": {},
     "output_type": "execute_result"
    }
   ],
   "source": [
    "drop_dup['AQI Category'].value_counts()"
   ]
  }
 ],
 "metadata": {
  "kernelspec": {
   "display_name": "Python 3",
   "language": "python",
   "name": "python3"
  },
  "language_info": {
   "codemirror_mode": {
    "name": "ipython",
    "version": 3
   },
   "file_extension": ".py",
   "mimetype": "text/x-python",
   "name": "python",
   "nbconvert_exporter": "python",
   "pygments_lexer": "ipython3",
   "version": "3.11.4"
  },
  "orig_nbformat": 4
 },
 "nbformat": 4,
 "nbformat_minor": 2
}
